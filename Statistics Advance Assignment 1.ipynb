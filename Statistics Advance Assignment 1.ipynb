{
 "cells": [
  {
   "cell_type": "code",
   "execution_count": null,
   "id": "b1bdc2da-9985-4df3-ba19-f6c33e87da18",
   "metadata": {},
   "outputs": [],
   "source": [
    "#Q1):-\n",
    "The probability density function is nonnegative everywhere, and the area under the entire curve is equal to 1."
   ]
  },
  {
   "cell_type": "code",
   "execution_count": null,
   "id": "915b131e-72b1-429a-a6f8-1a8b3115c39e",
   "metadata": {},
   "outputs": [],
   "source": [
    "#Q2):-\n",
    "The Probability distribution are:\n",
    "    1.Normal/Gaussian distribution\n",
    "    2.Bernoulli distribution\n",
    "    3.Unifrom distribution\n",
    "    4.possion distribution\n",
    "    5.log normal distribution\n",
    "    6.Binomial distribution"
   ]
  },
  {
   "cell_type": "code",
   "execution_count": 5,
   "id": "664a21fb-d7f2-459c-93ba-498840d3eeb1",
   "metadata": {},
   "outputs": [
    {
     "ename": "NameError",
     "evalue": "name 'std_dev' is not defined",
     "output_type": "error",
     "traceback": [
      "\u001b[0;31m---------------------------------------------------------------------------\u001b[0m",
      "\u001b[0;31mNameError\u001b[0m                                 Traceback (most recent call last)",
      "Cell \u001b[0;32mIn[5], line 8\u001b[0m\n\u001b[1;32m      6\u001b[0m     pdf \u001b[38;5;241m=\u001b[39m coefficient \u001b[38;5;241m*\u001b[39m math\u001b[38;5;241m.\u001b[39mexp(exponent)\n\u001b[1;32m      7\u001b[0m     \u001b[38;5;28;01mreturn\u001b[39;00m pdf\n\u001b[0;32m----> 8\u001b[0m pdf \u001b[38;5;241m=\u001b[39m (\u001b[38;5;241m1\u001b[39m \u001b[38;5;241m/\u001b[39m (\u001b[43mstd_dev\u001b[49m \u001b[38;5;241m*\u001b[39m sqrt(\u001b[38;5;241m2\u001b[39m \u001b[38;5;241m*\u001b[39m pi))) \u001b[38;5;241m*\u001b[39m exp(\u001b[38;5;241m-\u001b[39m((x \u001b[38;5;241m-\u001b[39m mean) \u001b[38;5;241m*\u001b[39m\u001b[38;5;241m*\u001b[39m \u001b[38;5;241m2\u001b[39m) \u001b[38;5;241m/\u001b[39m (\u001b[38;5;241m2\u001b[39m \u001b[38;5;241m*\u001b[39m std_dev \u001b[38;5;241m*\u001b[39m\u001b[38;5;241m*\u001b[39m \u001b[38;5;241m2\u001b[39m))\n\u001b[1;32m      9\u001b[0m mean \u001b[38;5;241m=\u001b[39m \u001b[38;5;241m0\u001b[39m\n\u001b[1;32m     10\u001b[0m std_dev \u001b[38;5;241m=\u001b[39m \u001b[38;5;241m1\u001b[39m\n",
      "\u001b[0;31mNameError\u001b[0m: name 'std_dev' is not defined"
     ]
    }
   ],
   "source": [
    "#Q3):-\n",
    "import math\n",
    "def normal_pdf(mean, std_dev, x):\n",
    "    coefficient = 1 / (std_dev * math.sqrt(2 * math.pi))\n",
    "    exponent = -((x - mean) ** 2) / (2 * std_dev ** 2)\n",
    "    pdf = coefficient * math.exp(exponent)\n",
    "    return pdf\n",
    "pdf = (1 / (std_dev * sqrt(2 * pi))) * exp(-((x - mean) ** 2) / (2 * std_dev ** 2))\n",
    "mean = 0\n",
    "std_dev = 1\n",
    "point = 0.5\n",
    "pdf_value = normal_pdf(mean, std_dev, point)\n",
    "print(f\"PDF at {point}: {pdf_value}\")"
   ]
  },
  {
   "cell_type": "code",
   "execution_count": null,
   "id": "45fe85e9-1969-46d0-b340-5d6e2554324b",
   "metadata": {},
   "outputs": [],
   "source": [
    "#Q4):-\n",
    "In probability theory and statistics, the binomial distribution is the discrete probability distribution that gives only two possible results in an experiment, either Success or Failure. \n",
    "For example, if we toss a coin, there could be only two possible outcomes: heads or tails, and if any test is taken, then there could be only two results: pass or fail.\n",
    "This distribution is also called a binomial probability distribution.\n",
    "\n",
    "Example:-\n",
    "The repeated tossing of the coin is an example of a Bernoulli trial. According to the problem:\n",
    "\n",
    "Number of trials: n=5\n",
    "\n",
    "Probability of head: p= 1/2 and hence the probability of tail, q =1/2\n",
    "\n",
    "For exactly two heads:\n",
    "\n",
    "x=2\n",
    "\n",
    "P(x=2) = 5C2 p2 q5-2 = 5! / 2! 3! × (½)2× (½)3\n",
    "\n",
    "P(x=2) = 5/16"
   ]
  },
  {
   "cell_type": "code",
   "execution_count": 1,
   "id": "ebefb6db-a15b-4840-8bb6-9b94dd1a1cba",
   "metadata": {},
   "outputs": [
    {
     "name": "stderr",
     "output_type": "stream",
     "text": [
      "/tmp/ipykernel_77/1699680757.py:6: UserWarning: \n",
      "\n",
      "`distplot` is a deprecated function and will be removed in seaborn v0.14.0.\n",
      "\n",
      "Please adapt your code to use either `displot` (a figure-level function with\n",
      "similar flexibility) or `histplot` (an axes-level function for histograms).\n",
      "\n",
      "For a guide to updating your code to use the new functions, please see\n",
      "https://gist.github.com/mwaskom/de44147ed2974457ad6372750bbe5751\n",
      "\n",
      "  sns.distplot(random.binomial(n=10, p=0.5, size=1000), hist=True, kde=False)\n"
     ]
    },
    {
     "data": {
      "image/png": "[encoded data removed]",
      "text/plain": [
       "<Figure size 640x480 with 1 Axes>"
      ]
     },
     "metadata": {},
     "output_type": "display_data"
    }
   ],
   "source": [
    "#Q5):-\n",
    "from numpy import random\n",
    "import matplotlib.pyplot as plt\n",
    "import seaborn as sns\n",
    "\n",
    "sns.distplot(random.binomial(n=10, p=0.5, size=1000), hist=True, kde=False)\n",
    "\n",
    "plt.show()"
   ]
  },
  {
   "cell_type": "code",
   "execution_count": 4,
   "id": "c15bf77f-53f9-45db-a879-a2d35c4bde4a",
   "metadata": {},
   "outputs": [
    {
     "name": "stdout",
     "output_type": "stream",
     "text": [
      "CDF at 2: 0.3208471988621341\n"
     ]
    }
   ],
   "source": [
    "#Q6):-\n",
    "import math\n",
    "def poisson_cdf(mean, k):\n",
    "    cdf = 0.0\n",
    "    for i in range(k + 1):\n",
    "        cdf += math.exp(-mean) * (mean ** i) / math.factorial(i)\n",
    "    return cdf\n",
    "mean = 3.5\n",
    "point = 2\n",
    "cdf_value = poisson_cdf(mean, point)\n",
    "print(f\"CDF at {point}: {cdf_value}\")"
   ]
  },
  {
   "cell_type": "code",
   "execution_count": null,
   "id": "9b207d0b-d3fc-48d2-a903-593da26b8dd5",
   "metadata": {},
   "outputs": [],
   "source": [
    "#Q7):-\n",
    "Binomial distribution describes the distribution of binary data from a finite sample. \n",
    "Thus it gives the probability of getting r events out of n trials. \n",
    "Poisson distribution describes the distribution of binary data from an infinite sample. \n",
    "Thus it gives the probability of getting r events in a population."
   ]
  },
  {
   "cell_type": "code",
   "execution_count": 3,
   "id": "a71b7a46-4f27-4e3c-80b9-e73f0a816fec",
   "metadata": {},
   "outputs": [
    {
     "name": "stdout",
     "output_type": "stream",
     "text": [
      "Sample Mean: 4.985\n",
      "Sample Variance: 4.9967749999999995\n"
     ]
    }
   ],
   "source": [
    "#Q8):-\n",
    "import numpy as np\n",
    "np.random.seed(42) \n",
    "sample = np.random.poisson(lam=5, size=1000)\n",
    "sample_mean = np.mean(sample)\n",
    "sample_variance = np.var(sample)\n",
    "print(\"Sample Mean:\", sample_mean)\n",
    "print(\"Sample Variance:\", sample_variance)\n"
   ]
  },
  {
   "cell_type": "code",
   "execution_count": null,
   "id": "fd6ebed9-01d6-4353-b932-36cae2f8a395",
   "metadata": {},
   "outputs": [],
   "source": [
    "#Q9):-\n",
    "In the binomial distribution, which describes the probability of obtaining a certain number of successes in a fixed number of independent Bernoulli trials, the mean (μ) and variance (σ²) are related as follows:\n",
    "μ = n * p\n",
    "σ² = n * p * (1 - p)\n",
    "where:\n",
    "n is the number of trials,\n",
    "p is the probability of success in a single trial.\n",
    "\n",
    "On the other hand, in the Poisson distribution, which describes the probability of a given number of events occurring in a fixed interval of time or space, the mean (λ) and variance (σ²) are equal to each other:\n",
    "μ = σ² = λ"
   ]
  },
  {
   "cell_type": "code",
   "execution_count": null,
   "id": "1b839597-72ba-4cd2-a238-7324872ce86d",
   "metadata": {},
   "outputs": [],
   "source": [
    "#Q10):-\n",
    "In a normal distribution, also known as a Gaussian distribution, the data is symmetrically distributed around the mean. The mean is the central value of the distribution, and the distribution is balanced on both sides of the mean.\n",
    "In a normal distribution, the least frequent data appears in the tails of the distribution, which are the extreme values located furthest from the mean. These extreme values, both on the left side (negative values) and the right side (positive values) of the mean, have lower probabilities of occurrence compared to the values closer to the mean.\n",
    "To visualize this, you can imagine a bell-shaped curve. The least frequent data points are located in the \"tails\" of the bell curve, far away from the highest point of the curve, which represents the mean.\n",
    "It's important to note that in a perfectly symmetrical normal distribution, the least frequent data points are equidistant from the mean. However, in real-world scenarios, the distribution might not be perfectly symmetrical, and the frequency of data points can vary due to different factors."
   ]
  }
 ],
 "metadata": {
  "kernelspec": {
   "display_name": "Python 3 (ipykernel)",
   "language": "python",
   "name": "python3"
  },
  "language_info": {
   "codemirror_mode": {
    "name": "ipython",
    "version": 3
   },
   "file_extension": ".py",
   "mimetype": "text/x-python",
   "name": "python",
   "nbconvert_exporter": "python",
   "pygments_lexer": "ipython3",
   "version": "3.10.8"
  }
 },
 "nbformat": 4,
 "nbformat_minor": 5
}
